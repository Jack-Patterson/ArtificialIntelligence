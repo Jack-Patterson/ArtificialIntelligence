{
 "cells": [
  {
   "cell_type": "code",
   "execution_count": 95,
   "outputs": [],
   "source": [
    "import numpy as np\n"
   ],
   "metadata": {
    "collapsed": false,
    "ExecuteTime": {
     "end_time": "2024-01-15T10:56:32.289138300Z",
     "start_time": "2024-01-15T10:56:32.179373700Z"
    }
   },
   "id": "9afb1c0a6066e32"
  },
  {
   "cell_type": "code",
   "execution_count": 95,
   "id": "initial_id",
   "metadata": {
    "collapsed": true,
    "ExecuteTime": {
     "end_time": "2024-01-15T10:56:32.289138300Z",
     "start_time": "2024-01-15T10:56:32.195042100Z"
    }
   },
   "outputs": [],
   "source": []
  },
  {
   "cell_type": "code",
   "execution_count": 95,
   "outputs": [],
   "source": [],
   "metadata": {
    "collapsed": false,
    "ExecuteTime": {
     "end_time": "2024-01-15T10:56:32.289138300Z",
     "start_time": "2024-01-15T10:56:32.210622Z"
    }
   },
   "id": "374a35c9ba0c85b2"
  },
  {
   "cell_type": "code",
   "execution_count": 96,
   "outputs": [],
   "source": [
    "\n",
    "class Problem:\n",
    "    def __init__(self):\n",
    "        self.number_of_genes = 8\n",
    "        self.max_val = 10\n",
    "        self.min_val = -10\n",
    "\n",
    "    def cost(self, x):\n",
    "        total = 0\n",
    "        for i in x:\n",
    "            total += i ** 2\n",
    "\n",
    "        return total\n"
   ],
   "metadata": {
    "collapsed": false,
    "ExecuteTime": {
     "end_time": "2024-01-15T10:56:32.289138300Z",
     "start_time": "2024-01-15T10:56:32.226245900Z"
    }
   },
   "id": "91e7e10c27829061"
  },
  {
   "cell_type": "code",
   "execution_count": 97,
   "outputs": [],
   "source": [
    "class Individual:\n",
    "    def __init__(self, problem: Problem):\n",
    "        self.chromosome = np.random.uniform(problem.min_val, problem.max_val, problem.number_of_genes)\n",
    "        self.cost = problem.cost(self.chromosome)\n",
    "\n",
    "    def mutate(self, rate_of_gene_mutation, range_of_gene_mutation):\n",
    "        for index in range(len(self.chromosome)):\n",
    "               if np.random.uniform() < rate_of_gene_mutation:\n",
    "                   self.chromosome[index] += np.random.randn() * range_of_gene_mutation\n"
   ],
   "metadata": {
    "collapsed": false,
    "ExecuteTime": {
     "end_time": "2024-01-15T10:56:32.289138300Z",
     "start_time": "2024-01-15T10:56:32.242257600Z"
    }
   },
   "id": "d8a1a3566aebdfd1"
  },
  {
   "cell_type": "code",
   "execution_count": 98,
   "outputs": [
    {
     "name": "stdout",
     "output_type": "stream",
     "text": [
      "[ 4.13164664  2.82625613  8.91289617  8.17407462 -7.48571957 -7.24274096\n",
      " -0.41137106 -8.52215251]\n",
      "352.603045175668\n",
      "[ 4.13164664  2.82625613  8.91289617  3.96446871 -7.48571957 -5.87139527\n",
      " -0.41137106 -8.52215251]\n"
     ]
    }
   ],
   "source": [
    "problem1 = Problem()\n",
    "\n",
    "individual1 = Individual(problem1)\n",
    "print(individual1.chromosome)\n",
    "print(individual1.cost)\n",
    "individual1.mutate(.25, 2)\n",
    "print(individual1.chromosome)"
   ],
   "metadata": {
    "collapsed": false,
    "ExecuteTime": {
     "end_time": "2024-01-15T10:56:32.289138300Z",
     "start_time": "2024-01-15T10:56:32.257891300Z"
    }
   },
   "id": "9fda3d1515207421"
  },
  {
   "cell_type": "code",
   "execution_count": 99,
   "outputs": [
    {
     "name": "stdout",
     "output_type": "stream",
     "text": [
      "[ 8.17151732  2.0887313  -9.13252615 -0.58433078 -8.71766608  3.78766953\n",
      "  2.93946337  2.62015251]\n",
      "260.7307564535603\n"
     ]
    }
   ],
   "source": [
    "problem2 = Problem()\n",
    "\n",
    "individual2 = Individual(problem2)\n",
    "print(individual2.chromosome)\n",
    "print(individual2.cost)"
   ],
   "metadata": {
    "collapsed": false,
    "ExecuteTime": {
     "end_time": "2024-01-15T10:56:32.289138300Z",
     "start_time": "2024-01-15T10:56:32.273514600Z"
    }
   },
   "id": "9d2d1ad86e848380"
  }
 ],
 "metadata": {
  "kernelspec": {
   "display_name": "Python 3",
   "language": "python",
   "name": "python3"
  },
  "language_info": {
   "codemirror_mode": {
    "name": "ipython",
    "version": 2
   },
   "file_extension": ".py",
   "mimetype": "text/x-python",
   "name": "python",
   "nbconvert_exporter": "python",
   "pygments_lexer": "ipython2",
   "version": "2.7.6"
  }
 },
 "nbformat": 4,
 "nbformat_minor": 5
}
